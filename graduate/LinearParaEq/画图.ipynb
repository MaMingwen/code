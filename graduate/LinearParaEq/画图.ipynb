{
 "cells": [
  {
   "cell_type": "code",
   "execution_count": null,
   "metadata": {},
   "outputs": [],
   "source": [
    "import torch\n",
    "import pandas\n",
    "import torch.nn as nn\n",
    "import collections\n",
    "import numpy as np\n",
    "import matplotlib.pyplot as plt\n",
    "import random\n",
    "\n",
    "import itertools"
   ]
  },
  {
   "cell_type": "code",
   "execution_count": null,
   "metadata": {},
   "outputs": [],
   "source": [
    "error_pinns = np.loadtxt('error_pinns_1')\n",
    "error_own = np.loadtxt('error_owm_1')"
   ]
  },
  {
   "cell_type": "code",
   "execution_count": null,
   "metadata": {},
   "outputs": [],
   "source": [
    "fig, ax = plt.subplots()\n",
    "x_net = np.arange(0,10000,1)\n",
    "x_pinns = np.arange(0,10000,1)\n",
    "ax.plot(x_net,error_own[0:10000], label='own_error')\n",
    "ax.plot(x_pinns,error_pinns[0:10000], label = 'pinns_error')\n",
    "ax.legend()"
   ]
  },
  {
   "cell_type": "code",
   "execution_count": null,
   "metadata": {},
   "outputs": [],
   "source": [
    "fig, ax = plt.subplots()\n",
    "x_net = np.arange(6000,7000,1)\n",
    "x_pinns = np.arange(6000,7000,1)\n",
    "ax.plot(x_net,error_own[6000:7000], label='own_error')\n",
    "ax.plot(x_pinns,error_pinns[6000:7000], label = 'pinns_error')\n",
    "ax.legend()"
   ]
  }
 ],
 "metadata": {
  "language_info": {
   "name": "python"
  }
 },
 "nbformat": 4,
 "nbformat_minor": 2
}

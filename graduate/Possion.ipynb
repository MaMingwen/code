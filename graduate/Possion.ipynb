{
 "cells": [
  {
   "attachments": {},
   "cell_type": "markdown",
   "metadata": {},
   "source": [
    "用pinns求解泊松方程 $-\\triangle u = f$，这里$u = sin(x)sin(y)$，限定区域$\\Omega = [0,1]^2$。"
   ]
  },
  {
   "attachments": {},
   "cell_type": "markdown",
   "metadata": {},
   "source": [
    "## 第一步先生成数据集\n",
    "- 均匀分布\n",
    "- 数据集大小：$256\\times 256$"
   ]
  },
  {
   "cell_type": "code",
   "execution_count": 2,
   "metadata": {},
   "outputs": [],
   "source": [
    "# 需要用的依赖包\n",
    "import math\n",
    "\n",
    "import torch as torch\n",
    "import torch.nn as nn\n",
    "import numpy as np\n",
    "from collections import OrderedDict\n",
    "\n",
    "\n",
    "# 设置精度\n",
    "torch.set_printoptions(precision=9)\n",
    "torch.set_default_dtype(torch.double)"
   ]
  },
  {
   "cell_type": "code",
   "execution_count": 3,
   "metadata": {},
   "outputs": [
    {
     "name": "stdout",
     "output_type": "stream",
     "text": [
      "torch.Size([101])\n",
      "torch.Size([101, 101])\n",
      "tensor([[0.010000000, 0.010000000],\n",
      "        [0.010000000, 0.020000000],\n",
      "        [0.010000000, 0.030000000],\n",
      "        ...,\n",
      "        [0.990000000, 0.970000000],\n",
      "        [0.990000000, 0.980000000],\n",
      "        [0.990000000, 0.990000000]])\n",
      "torch.Size([10205, 3])\n"
     ]
    },
    {
     "name": "stderr",
     "output_type": "stream",
     "text": [
      "c:\\Users\\kl869\\.conda\\envs\\pytorch-3060\\lib\\site-packages\\torch\\functional.py:478: UserWarning: torch.meshgrid: in an upcoming release, it will be required to pass the indexing argument. (Triggered internally at  C:\\cb\\pytorch_1000000000000\\work\\aten\\src\\ATen\\native\\TensorShape.cpp:2895.)\n",
      "  return _VF.meshgrid(tensors, **kwargs)  # type: ignore[attr-defined]\n"
     ]
    }
   ],
   "source": [
    "def u_exact(x,y):\n",
    "    return torch.sin(x)*torch.cos(y)\n",
    "def f(x,y):\n",
    "    return 2*torch.sin(x)*torch.cos(y)\n",
    "\n",
    "x = torch.arange(0,1+0.01,0.01) #arange 取头不取尾，故在尾部加上步长。共取101*101个点。默认是列向量。\n",
    "y = torch.arange(0,1+0.01,0.01)\n",
    "N = 101*101\n",
    "print(x.size())\n",
    "X,Y = torch.meshgrid(x,y)\n",
    "print(X.size())\n",
    "\n",
    "# 生成均匀的区域内部取样点\n",
    "XY_in = torch.stack((torch.flatten(X[1:-1,1:-1]),torch.flatten(Y[1:-1,1:-1])),dim=1)\n",
    "print(XY_in)\n",
    "# 生成均匀的边界取样点\n",
    "X0Y = torch.stack((X[0,:],Y[0,:]),dim=1)\n",
    "X1Y = torch.stack((X[-1,:],Y[0,:]),dim=1)\n",
    "XY0 = torch.stack((X[:,0],Y[:,0]),dim=1)\n",
    "XY1 = torch.stack((X[:,0],Y[:,-1]),dim=1)\n",
    "\n",
    "# print(XY_in)\n",
    "# print(X0Y)\n",
    "\n",
    "# 拼接成一个二维张量，前249*249个是内部的采样点，后面的是边界采样点。\n",
    "XY = torch.cat((XY_in,X0Y,X1Y,XY0,XY1),0)\n",
    "\n",
    "# 带入u_exact求值\n",
    "u = u_exact(XY[:,0],XY[:,1])\n",
    "#u = torch.zeros(N+4)\n",
    "#for i in range(N+4):\n",
    "#    u[i] = u_exact(XY[i][0],XY[i][1])\n",
    "U = u[:,None]\n",
    "XYU = torch.cat((XY,U),1)\n",
    "print(XYU.shape)"
   ]
  },
  {
   "attachments": {},
   "cell_type": "markdown",
   "metadata": {},
   "source": [
    "## 设置模型参数\n",
    "- layers : 5\n",
    "- \n",
    "## 定义了'Model'\n",
    "- layers\n",
    "- size\n",
    "- 每层的模型\n",
    "- forward"
   ]
  },
  {
   "cell_type": "code",
   "execution_count": 4,
   "metadata": {},
   "outputs": [],
   "source": [
    "class TestModel(nn.Module):\n",
    "    def __init__(self,input_size=2,hidden_size=20,output_size=1,activation=torch.nn.Tanh(),layers=5):\n",
    "        \"\"\"\n",
    "        input_size = 2\n",
    "        hidden_size = 20\n",
    "        output_size = 1\n",
    "        layers = 5\n",
    "        \"\"\"\n",
    "        super().__init__()\n",
    "        self.input_size = input_size\n",
    "        self.hidden_size = hidden_size\n",
    "        self.output_size = output_size\n",
    "        self.layers = layers\n",
    "        self.act = activation\n",
    "        Layers = [(\"input\",nn.Linear(self.input_size,self.hidden_size))]\n",
    "        Layers.append((\"input_act\",self.act))\n",
    "\n",
    "        for i in range(layers-1):\n",
    "            Layers.append((f\"hidden_{i}\",nn.Linear(self.hidden_size,self.hidden_size)))\n",
    "            Layers.append((f\"hidden{i}\",self.act))\n",
    "        \n",
    "        Layers.append((f\"output_{i}\",nn.Linear(self.hidden_size,self.output_size)))\n",
    "\n",
    "        LayersDict = OrderedDict(Layers)\n",
    "\n",
    "        self.Layers = nn.Sequential(LayersDict)\n",
    "    \n",
    "    def forward(self,x):# 重写了父类nn.Module中的forward方法，nn.Module中还有__call__()方法，可以调用forward。\n",
    "        return self.Layers(x)\n"
   ]
  },
  {
   "attachments": {},
   "cell_type": "markdown",
   "metadata": {},
   "source": [
    "## 定义Net类\n",
    "其中包括\n",
    "- loss"
   ]
  },
  {
   "cell_type": "code",
   "execution_count": 5,
   "metadata": {},
   "outputs": [],
   "source": [
    "class Net:\n",
    "    def __init__(self,XY=XY,XYU=XYU,batch_size=256,epochs=1,device=torch.device(\"cuda\"),alpha=1):\n",
    "        \"\"\"\n",
    "        此Net中，模型和优化算法都未提供接口。\n",
    "        \"\"\"\n",
    "        self.device = device\n",
    "\n",
    "        self.XY = XY.clone().detach().to(self.device)\n",
    "        self.XYU = XYU.clone().detach().to(self.device)\n",
    "        self.XY.requires_grad_()\n",
    "\n",
    "        self.batch_size = batch_size\n",
    "        self.epochs = epochs\n",
    "        self.a = alpha # a 是损失函数中边界误差的权重系数\n",
    "        self.N = self.XY.shape[0] # 总共输入的数据点数量\n",
    "\n",
    "        # self.N_in =\n",
    "\n",
    "        self.model = TestModel(input_size=2,hidden_size=20,output_size=1,activation=nn.Tanh(),layers=5).to(self.device) # 模型初始化的时候就指定设备\n",
    "        \n",
    "        self.optimizer = torch.optim.Adam(self.model.parameters())\n",
    "\n",
    "        self.iter = 1 # 迭代次数\n",
    "        self.Loss = -1\n",
    "\n",
    "    def u_exact(self,x,y):\n",
    "        return torch.sin(x)*torch.cos(y)\n",
    "    def f(self,x,y):\n",
    "        return 2*torch.sin(x)*torch.cos(y)\n",
    "    \n",
    "\n",
    "    def LossFunc(self):\n",
    "        self.optimizer.zero_grad()\n",
    "\n",
    "        u = self.model(self.XY)# 默认调用了forward，得到了 u 的训练值，而非真实值。\n",
    "        u_XY = torch.autograd.grad(inputs = self.XY,outputs = u,grad_outputs = torch.ones_like(self.model(self.XY)),retain_graph = True,create_graph = True)[0]\n",
    "        u_x = u_XY[:,0]\n",
    "        u_y = u_XY[:,1]\n",
    "        u_x_XY = torch.autograd.grad(inputs = self.XY,outputs = u_x,grad_outputs = torch.ones_like(u_x),retain_graph = True,create_graph = True)[0]\n",
    "        u_y_XY = torch.autograd.grad(inputs = self.XY,outputs = u_y,grad_outputs = torch.ones_like(u_y),retain_graph = True,create_graph = True)[0]\n",
    "        \n",
    "        u_xx = u_x_XY[0:9801,0]\n",
    "        u_yy = u_y_XY[0:9801,1]\n",
    "        f = self.f(self.XY[0:9801,0],self.XY[0:9801,1])\n",
    "\n",
    "        # 如果用for循环，则完全未用到gpu的速度优势。\n",
    "        #for i in range(62001):\n",
    "        #    f[i] = u_exact(XY[i,0],XY[i,1])\n",
    "        \n",
    "        xy_bound = self.XY.clone().detach()[9801::,:].to(self.device)\n",
    "\n",
    "        u_bound = self.model(xy_bound)\n",
    "        g = self.XYU[9801::,2]\n",
    "        loss = nn.MSELoss()(-u_xx-u_yy,f) + nn.MSELoss()(u_bound,g) # 括号内每一个变量都为向量\n",
    "\n",
    "        self.Loss = loss.item()\n",
    "\n",
    "        loss.backward()\n",
    "\n",
    "        return loss\n",
    "\n",
    "    def train(self): # train 模块要包括可视化(作图，进度条...)。\n",
    "        for i in range(1000):\n",
    "            self.optimizer.step(self.LossFunc) # 一般不带括号，step中会带括号\n",
    "            if((i+1)%100==0):\n",
    "                print(f\"第{i+1}次迭代，误差为{self.Loss}\")\n",
    "        "
   ]
  },
  {
   "cell_type": "code",
   "execution_count": 6,
   "metadata": {},
   "outputs": [
    {
     "name": "stderr",
     "output_type": "stream",
     "text": [
      "c:\\Users\\kl869\\.conda\\envs\\pytorch-3060\\lib\\site-packages\\torch\\nn\\modules\\loss.py:530: UserWarning: Using a target size (torch.Size([404])) that is different to the input size (torch.Size([404, 1])). This will likely lead to incorrect results due to broadcasting. Please ensure they have the same size.\n",
      "  return F.mse_loss(input, target, reduction=self.reduction)\n"
     ]
    },
    {
     "name": "stdout",
     "output_type": "stream",
     "text": [
      "第100次迭代，误差为0.13349111187271137\n",
      "第200次迭代，误差为0.09659682771589663\n",
      "第300次迭代，误差为0.09412202776362862\n",
      "第400次迭代，误差为0.09329529022085359\n",
      "第500次迭代，误差为0.0928847237597049\n",
      "第600次迭代，误差为0.09263060560352401\n",
      "第700次迭代，误差为0.09245804599210672\n",
      "第800次迭代，误差为0.09233801926432082\n",
      "第900次迭代，误差为0.09225480427005904\n",
      "第1000次迭代，误差为0.09219805996971397\n"
     ]
    }
   ],
   "source": [
    "net = Net()\n",
    "net.train()"
   ]
  },
  {
   "attachments": {},
   "cell_type": "markdown",
   "metadata": {},
   "source": [
    "作图"
   ]
  },
  {
   "cell_type": "code",
   "execution_count": 7,
   "metadata": {},
   "outputs": [
    {
     "name": "stdout",
     "output_type": "stream",
     "text": [
      "[[-3.  0.  3.]\n",
      " [-3.  0.  3.]\n",
      " [-3.  0.  3.]] [[-3. -3. -3.]\n",
      " [ 0.  0.  0.]\n",
      " [ 3.  3.  3.]]\n"
     ]
    }
   ],
   "source": [
    "X, Y = np.meshgrid(np.linspace(-3, 3, 3), np.linspace(-3, 3, 3))#默认是行向量\n",
    "print(X,Y)"
   ]
  },
  {
   "cell_type": "code",
   "execution_count": 8,
   "metadata": {},
   "outputs": [],
   "source": [
    "import matplotlib.pyplot as plt"
   ]
  },
  {
   "cell_type": "code",
   "execution_count": 9,
   "metadata": {},
   "outputs": [],
   "source": [
    "x = torch.arange(0,1+0.05,0.05)\n",
    "y = torch.arange(0,1+0.05,0.05)\n",
    "X,Y = torch.meshgrid([x,y])\n",
    "XY = torch.stack([X.flatten(),Y.flatten()],dim=1).to(net.device)\n",
    "net.model.eval()\n",
    "with torch.no_grad():\n",
    "    u_pred = net.model(XY)\n",
    "X = X.detach().to('cpu').numpy()\n",
    "Y = Y.detach().to('cpu').numpy()\n",
    "u_pred = u_pred.detach().to('cpu').numpy().reshape(X.shape[0],X.shape[0])"
   ]
  },
  {
   "cell_type": "code",
   "execution_count": 10,
   "metadata": {},
   "outputs": [
    {
     "data": {
      "text/plain": [
       "Text(0.5, 1.0, 'Heatmap(predict)')"
      ]
     },
     "execution_count": 10,
     "metadata": {},
     "output_type": "execute_result"
    },
    {
     "data": {
      "image/png": "[encoded data removed]",
      "text/plain": [
       "<Figure size 640x480 with 2 Axes>"
      ]
     },
     "metadata": {},
     "output_type": "display_data"
    }
   ],
   "source": [
    "# 画一个heatmap\n",
    "fig, ax = plt.subplots()\n",
    "pc = ax.pcolormesh(X,Y,u_pred,cmap = 'RdBu_r')\n",
    "fig.colorbar(pc,ax = ax)\n",
    "ax.set_title(\"Heatmap(predict)\")"
   ]
  }
 ],
 "metadata": {
  "kernelspec": {
   "display_name": "pytorch-3060",
   "language": "python",
   "name": "python3"
  },
  "language_info": {
   "codemirror_mode": {
    "name": "ipython",
    "version": 3
   },
   "file_extension": ".py",
   "mimetype": "text/x-python",
   "name": "python",
   "nbconvert_exporter": "python",
   "pygments_lexer": "ipython3",
   "version": "3.10.6"
  },
  "orig_nbformat": 4,
  "vscode": {
   "interpreter": {
    "hash": "104eef24d95ed5257237d8ef05636868926917cfc916eaa1252030cdefa66275"
   }
  }
 },
 "nbformat": 4,
 "nbformat_minor": 2
}
